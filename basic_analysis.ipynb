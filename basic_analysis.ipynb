{
 "cells": [
  {
   "cell_type": "markdown",
   "id": "03b61c1b",
   "metadata": {},
   "source": [
    "# Basic Data Analysis in Python\n",
    "This notebook introduces simple Python code for data analysis and visualization."
   ]
  },
  {
   "cell_type": "code",
   "execution_count": null,
   "id": "2b6c3011",
   "metadata": {},
   "outputs": [],
   "source": [
    "import pandas as pd\n",
    "import matplotlib.pyplot as plt\n",
    "import seaborn as sns\n",
    "\n",
    "# Create dummy neuroscience data\n",
    "data = pd.DataFrame({\n",
    "    'Subject': ['A', 'B', 'C', 'D', 'E'],\n",
    "    'Anxiety_Score': [12, 18, 10, 15, 14],\n",
    "    'Cognitive_Score': [80, 70, 90, 75, 85]\n",
    "})\n",
    "data"
   ]
  },
  {
   "cell_type": "markdown",
   "id": "783a8ee6",
   "metadata": {},
   "source": [
    "## Visualizing the Data"
   ]
  },
  {
   "cell_type": "code",
   "execution_count": null,
   "id": "f431a708",
   "metadata": {},
   "outputs": [],
   "source": [
    "sns.scatterplot(data=data, x='Anxiety_Score', y='Cognitive_Score')\n",
    "plt.title('Anxiety vs Cognitive Score')\n",
    "plt.xlabel('Anxiety Score')\n",
    "plt.ylabel('Cognitive Score')\n",
    "plt.grid(True)\n",
    "plt.show()"
   ]
  },
  {
   "cell_type": "markdown",
   "id": "6c67ec38",
   "metadata": {},
   "source": [
    "You can edit this notebook and add more plots or perform other analyses."
   ]
  }
 ],
 "metadata": {},
 "nbformat": 4,
 "nbformat_minor": 5
}
